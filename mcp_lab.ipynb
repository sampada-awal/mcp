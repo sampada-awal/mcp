{
  "nbformat": 4,
  "nbformat_minor": 0,
  "metadata": {
    "colab": {
      "provenance": []
    },
    "kernelspec": {
      "name": "python3",
      "display_name": "Python 3"
    },
    "language_info": {
      "name": "python"
    }
  },
  "cells": [
    {
      "cell_type": "code",
      "source": [
        "import numpy as np"
      ],
      "metadata": {
        "id": "nhUhcNiAXe7i"
      },
      "execution_count": 37,
      "outputs": []
    },
    {
      "cell_type": "code",
      "source": [
        "def linear_threshold_gate(dot: int, T: float) -> int:\n",
        "    '''Returns the binary threshold output'''\n",
        "    if dot >= T:\n",
        "        return 1\n",
        "    else:\n",
        "        return 0"
      ],
      "metadata": {
        "id": "9NqF-1acXz0t"
      },
      "execution_count": 38,
      "outputs": []
    },
    {
      "cell_type": "code",
      "source": [
        "T = -1\n",
        "activation = linear_threshold_gate(dot, T)\n",
        "print(f'Activation: {activation}')"
      ],
      "metadata": {
        "colab": {
          "base_uri": "https://localhost:8080/"
        },
        "id": "9J5uQmczX2K0",
        "outputId": "65028d56-26a8-41a3-b2cd-aca71f758ca7"
      },
      "execution_count": 39,
      "outputs": [
        {
          "output_type": "stream",
          "name": "stdout",
          "text": [
            "Activation: 1\n"
          ]
        }
      ]
    },
    {
      "cell_type": "code",
      "source": [
        "T = 0\n",
        "activation = linear_threshold_gate(dot, T)\n",
        "print(f'Activation: {activation}')"
      ],
      "metadata": {
        "colab": {
          "base_uri": "https://localhost:8080/"
        },
        "id": "EsXwhHHYX0yE",
        "outputId": "0157cb7d-05f6-47fe-eda7-a826b4db5f41"
      },
      "execution_count": 5,
      "outputs": [
        {
          "output_type": "stream",
          "name": "stdout",
          "text": [
            "Activation: 0\n"
          ]
        }
      ]
    },
    {
      "cell_type": "code",
      "source": [
        "input_size = 4 # Insert size of Input"
      ],
      "metadata": {
        "id": "nziicozeeiyA"
      },
      "execution_count": 6,
      "outputs": []
    },
    {
      "cell_type": "code",
      "source": [
        "import numpy as np\n",
        "import pandas as pd\n",
        "\n",
        "class MCPNeuron(object):\n",
        "    def __init__(self, w = [1,1], t = 1, gates= False):\n",
        "        self.w = np.array(w)\n",
        "        self.t = t\n",
        "        self.gates = gates\n",
        "\n",
        "\n",
        "    def predict(self, message):\n",
        "        x = message # consistency with function notation above\n",
        "        sum_ = np.inner(self.w,x)\n",
        "        if not self.gates:\n",
        "          if sum_ >= self.t:\n",
        "              return \"Activation : 1\" , \"Neuron Fires\"\n",
        "          else:\n",
        "              return \"Activation : 0\" , \"Neuron doesn't Fire\"\n",
        "        else:\n",
        "          if sum_ >= self.t:\n",
        "              return 1\n",
        "          else:\n",
        "              return 0"
      ],
      "metadata": {
        "id": "pkBfavI-b7hI"
      },
      "execution_count": 14,
      "outputs": []
    },
    {
      "cell_type": "code",
      "source": [
        "import numpy as np\n",
        "np.random.seed(seed=0)\n",
        "X = np.random.choice([0,1], input_size)# generate random vector I, sampling from {0,1}\n",
        "W = np.random.choice([-1,1], input_size) # generate random vector W, sampling from {-1,1}\n",
        "print(f'Input vector:{X}, Weight vector:{W}')"
      ],
      "metadata": {
        "colab": {
          "base_uri": "https://localhost:8080/"
        },
        "id": "Y6UlKq8AcVKU",
        "outputId": "07928e76-a1ad-4d14-a7d7-5407f24325a9"
      },
      "execution_count": 15,
      "outputs": [
        {
          "output_type": "stream",
          "name": "stdout",
          "text": [
            "Input vector:[0 1 1 0], Weight vector:[1 1 1 1]\n"
          ]
        }
      ]
    },
    {
      "cell_type": "code",
      "source": [
        "mcp_neuron = MCPNeuron(W, t=3)"
      ],
      "metadata": {
        "id": "4Trb4EbtchDQ"
      },
      "execution_count": 16,
      "outputs": []
    },
    {
      "cell_type": "code",
      "source": [
        "mcp_neuron.predict(X)"
      ],
      "metadata": {
        "colab": {
          "base_uri": "https://localhost:8080/"
        },
        "id": "sdyhnzoWdPlI",
        "outputId": "9eb5e936-3591-4b7c-8541-a01edac57634"
      },
      "execution_count": 17,
      "outputs": [
        {
          "output_type": "execute_result",
          "data": {
            "text/plain": [
              "('Activation : 0', \"Neuron doesn't Fire\")"
            ]
          },
          "metadata": {},
          "execution_count": 17
        }
      ]
    },
    {
      "cell_type": "code",
      "source": [
        "def TruthTable(object, input, input_labels, output_labels):\n",
        "  table = pd.DataFrame(input, columns = input_labels)\n",
        "\n",
        "  out_signals = []\n",
        "  for row in input:\n",
        "      signal = object.predict(message = row)\n",
        "      out_signals.append(signal)\n",
        "\n",
        "  table[output_labels] = pd.Series(out_signals)\n",
        "  return table\n",
        "\n"
      ],
      "metadata": {
        "id": "MnVo_cmAkf1g"
      },
      "execution_count": 18,
      "outputs": []
    },
    {
      "cell_type": "code",
      "source": [
        "in_labels = ['x1', 'x2']\n",
        "out_label = 'y'\n",
        "\n",
        "\n",
        "in_signals = np.array([\n",
        "    [0,0], # both no\n",
        "    [0,1], # one no, one yes\n",
        "    [1,0], # one yes, one no\n",
        "    [1,1]  # bot yes\n",
        "])\n",
        "\n",
        "print(in_signals)"
      ],
      "metadata": {
        "colab": {
          "base_uri": "https://localhost:8080/"
        },
        "outputId": "202bcef9-96fd-4fdc-af29-a124f5d48ee4",
        "id": "VDq5yQ9jnzpM"
      },
      "execution_count": 19,
      "outputs": [
        {
          "output_type": "stream",
          "name": "stdout",
          "text": [
            "[[0 0]\n",
            " [0 1]\n",
            " [1 0]\n",
            " [1 1]]\n"
          ]
        }
      ]
    },
    {
      "cell_type": "code",
      "source": [
        "#Assign weights\n",
        "or_weights = np.array([1,1])\n",
        "# Assign Threshold\n",
        "or_threshold = 1\n",
        "print(f'Weights: {or_weights} \\nThreshold:{or_threshold}')"
      ],
      "metadata": {
        "colab": {
          "base_uri": "https://localhost:8080/"
        },
        "outputId": "d0b070e5-7298-4e0d-bf35-49f36ed72a91",
        "id": "woUvcgS1nzpN"
      },
      "execution_count": 20,
      "outputs": [
        {
          "output_type": "stream",
          "name": "stdout",
          "text": [
            "Weights: [1 1] \n",
            "Threshold:1\n"
          ]
        }
      ]
    },
    {
      "cell_type": "code",
      "source": [
        "# instantiate AND gate as an MCP Neuron class\n",
        "OR = MCPNeuron(or_weights,or_threshold, \"True\")"
      ],
      "metadata": {
        "id": "wNXuRWmYnzpN"
      },
      "execution_count": 21,
      "outputs": []
    },
    {
      "cell_type": "code",
      "source": [
        "OR_table = TruthTable(OR ,in_signals,in_labels,out_label)"
      ],
      "metadata": {
        "id": "KAF-fqQBnzpN"
      },
      "execution_count": 22,
      "outputs": []
    },
    {
      "cell_type": "code",
      "source": [
        "print(OR_table)"
      ],
      "metadata": {
        "colab": {
          "base_uri": "https://localhost:8080/"
        },
        "outputId": "4f82e4ec-4f5a-4f42-d928-83ab3b73da98",
        "id": "Dw5F0B5MnzpO"
      },
      "execution_count": 23,
      "outputs": [
        {
          "output_type": "stream",
          "name": "stdout",
          "text": [
            "   x1  x2  y\n",
            "0   0   0  0\n",
            "1   0   1  1\n",
            "2   1   0  1\n",
            "3   1   1  1\n"
          ]
        }
      ]
    },
    {
      "cell_type": "code",
      "source": [
        "in_labels = ['x1', 'x2']\n",
        "out_label = 'y'\n",
        "\n",
        "\n",
        "in_signals = np.array([\n",
        "    [0,0], # both no\n",
        "    [0,1], # one no, one yes\n",
        "    [1,0], # one yes, one no\n",
        "    [1,1]  # bot yes\n",
        "])\n",
        "\n",
        "print(in_signals)"
      ],
      "metadata": {
        "colab": {
          "base_uri": "https://localhost:8080/"
        },
        "id": "JikieQxHjo2S",
        "outputId": "84b9df2e-3fc7-44d5-a53f-9400ab5142e8"
      },
      "execution_count": 24,
      "outputs": [
        {
          "output_type": "stream",
          "name": "stdout",
          "text": [
            "[[0 0]\n",
            " [0 1]\n",
            " [1 0]\n",
            " [1 1]]\n"
          ]
        }
      ]
    },
    {
      "cell_type": "code",
      "source": [
        "#Assign weights\n",
        "and_weights = np.array([1,1])\n",
        "# Assign Threshold\n",
        "and_threshold =2\n",
        "print(f'Weights: {and_weights} \\nThreshold:{and_threshold}')"
      ],
      "metadata": {
        "colab": {
          "base_uri": "https://localhost:8080/"
        },
        "id": "SeF_YG7ZkBkt",
        "outputId": "508bcc54-982a-4118-edcc-926def456601"
      },
      "execution_count": 25,
      "outputs": [
        {
          "output_type": "stream",
          "name": "stdout",
          "text": [
            "Weights: [1 1] \n",
            "Threshold:2\n"
          ]
        }
      ]
    },
    {
      "cell_type": "code",
      "source": [
        "# Assign Threshold\n",
        "and_threshold = 2\n",
        "print(and_threshold)"
      ],
      "metadata": {
        "colab": {
          "base_uri": "https://localhost:8080/"
        },
        "id": "sjRzakjKkG2v",
        "outputId": "95a4b9fc-8350-4e74-a5e4-c891e1bc6671"
      },
      "execution_count": 26,
      "outputs": [
        {
          "output_type": "stream",
          "name": "stdout",
          "text": [
            "2\n"
          ]
        }
      ]
    },
    {
      "cell_type": "code",
      "source": [
        "# instantiate AND gate as an MCP Neuron class\n",
        "AND = MCPNeuron(and_weights,and_threshold, \"True\")"
      ],
      "metadata": {
        "id": "cyNpsGi_kQyv"
      },
      "execution_count": 27,
      "outputs": []
    },
    {
      "cell_type": "code",
      "source": [
        "AND_table = TruthTable(AND ,in_signals,in_labels,out_label)"
      ],
      "metadata": {
        "id": "vFGlYAIfl1Ql"
      },
      "execution_count": 28,
      "outputs": []
    },
    {
      "cell_type": "code",
      "source": [
        "print(AND_table)"
      ],
      "metadata": {
        "colab": {
          "base_uri": "https://localhost:8080/"
        },
        "id": "HtpFYR9AmNlM",
        "outputId": "5544c4b5-2a46-491f-890b-0b44efbe821e"
      },
      "execution_count": 29,
      "outputs": [
        {
          "output_type": "stream",
          "name": "stdout",
          "text": [
            "   x1  x2  y\n",
            "0   0   0  0\n",
            "1   0   1  0\n",
            "2   1   0  0\n",
            "3   1   1  1\n"
          ]
        }
      ]
    },
    {
      "cell_type": "code",
      "source": [
        "in_labels = ['x1', 'x2']\n",
        "out_label = 'y'\n",
        "\n",
        "\n",
        "in_signals = np.array([\n",
        "    [0,0], # both no\n",
        "    [0,1], # one no, one yes\n",
        "    [1,0], # one yes, one no\n",
        "    [1,1]  # bot yes\n",
        "])\n",
        "\n",
        "print(in_signals)"
      ],
      "metadata": {
        "colab": {
          "base_uri": "https://localhost:8080/"
        },
        "outputId": "3aa343a4-d207-48e6-d27b-fa18614da146",
        "id": "C4BXQbuypKEz"
      },
      "execution_count": 30,
      "outputs": [
        {
          "output_type": "stream",
          "name": "stdout",
          "text": [
            "[[0 0]\n",
            " [0 1]\n",
            " [1 0]\n",
            " [1 1]]\n"
          ]
        }
      ]
    },
    {
      "cell_type": "code",
      "source": [
        "#Assign weights\n",
        "nor_weights = np.array([-1,-1])\n",
        "# Assign Threshold\n",
        "nor_threshold = 0\n",
        "print(f'Weights: {nor_weights} \\nThreshold:{nor_threshold}')"
      ],
      "metadata": {
        "colab": {
          "base_uri": "https://localhost:8080/"
        },
        "outputId": "afac19de-d81d-4c87-c700-3725109d0791",
        "id": "_b0QsPlppKEz"
      },
      "execution_count": 31,
      "outputs": [
        {
          "output_type": "stream",
          "name": "stdout",
          "text": [
            "Weights: [-1 -1] \n",
            "Threshold:0\n"
          ]
        }
      ]
    },
    {
      "cell_type": "code",
      "source": [
        "# instantiate AND gate as an MCP Neuron class\n",
        "NOR = MCPNeuron(nor_weights,nor_threshold, \"True\")"
      ],
      "metadata": {
        "id": "yh-XBi4npKE0"
      },
      "execution_count": 32,
      "outputs": []
    },
    {
      "cell_type": "code",
      "source": [
        "NOR_table = TruthTable(NOR ,in_signals,in_labels,out_label)"
      ],
      "metadata": {
        "id": "97ee7d32pKE0"
      },
      "execution_count": 33,
      "outputs": []
    },
    {
      "cell_type": "code",
      "source": [
        "print(NOR_table)"
      ],
      "metadata": {
        "colab": {
          "base_uri": "https://localhost:8080/"
        },
        "outputId": "d5c5fdb3-dfc5-4ab0-e5e1-d0fd99ce4f1c",
        "id": "DTgZ4lZapKE0"
      },
      "execution_count": 34,
      "outputs": [
        {
          "output_type": "stream",
          "name": "stdout",
          "text": [
            "   x1  x2  y\n",
            "0   0   0  1\n",
            "1   0   1  0\n",
            "2   1   0  0\n",
            "3   1   1  0\n"
          ]
        }
      ]
    },
    {
      "cell_type": "code",
      "source": [
        "import numpy as np\n",
        "import matplotlib.pyplot as plt\n",
        "\n",
        "def sigmoid(x):\n",
        "  \"\"\"Calculates the sigmoid function.\"\"\"\n",
        "  return 1 / (1 + np.exp(-x))\n",
        "\n",
        "def sigmoid_derivative(x):\n",
        "  \"\"\"Calculates the derivative of the sigmoid function.\"\"\"\n",
        "  return sigmoid(x) * (1 - sigmoid(x))\n",
        "\n",
        "# Generate x values\n",
        "x = np.linspace(-10, 10, 100)\n",
        "\n",
        "# Calculate sigmoid and derivative values\n",
        "y = sigmoid(x)\n",
        "dydx = sigmoid_derivative(x)\n",
        "\n",
        "# Create the plot\n",
        "plt.figure(figsize=(10, 6))\n",
        "\n",
        "# Plot the sigmoid function\n",
        "plt.plot(x, y, label=\"Sigmoid Function\", color=\"blue\")\n",
        "\n",
        "# Plot the gradient\n",
        "plt.plot(x, dydx, label=\"Gradient\", color=\"red\", linestyle=\"dashed\")\n",
        "\n",
        "# Add labels and title\n",
        "plt.xlabel(\"x\")\n",
        "plt.ylabel(\"y\")\n",
        "plt.title(\"Sigmoid Function and Gradient\")\n",
        "\n",
        "# Add legend\n",
        "plt.legend()\n",
        "\n",
        "# Show the plot\n",
        "plt.grid(True)\n",
        "plt.show()\n"
      ],
      "metadata": {
        "colab": {
          "base_uri": "https://localhost:8080/",
          "height": 564
        },
        "outputId": "74bc5ebe-b1cb-44be-ceb2-c77bd6c73807",
        "id": "HpZxc68-nzpO"
      },
      "execution_count": 35,
      "outputs": [
        {
          "output_type": "display_data",
          "data": {
            "text/plain": [
              "<Figure size 1000x600 with 1 Axes>"
            ],
            "image/png": "[encoded data removed]"
          },
          "metadata": {}
        }
      ]
    }
  ]
}